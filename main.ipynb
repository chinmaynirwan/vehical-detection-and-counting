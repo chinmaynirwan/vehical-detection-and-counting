{
 "cells": [
  {
   "cell_type": "code",
   "execution_count": 1,
   "id": "64d25800",
   "metadata": {},
   "outputs": [],
   "source": [
    "import cv2\n",
    "import numpy as np"
   ]
  },
  {
   "cell_type": "markdown",
   "id": "cfec99a7",
   "metadata": {},
   "source": [
    "# Main Code and Logic"
   ]
  },
  {
   "cell_type": "markdown",
   "id": "ecb04554",
   "metadata": {},
   "source": [
    "### reading video\n"
   ]
  },
  {
   "cell_type": "code",
   "execution_count": 2,
   "id": "c633324d",
   "metadata": {},
   "outputs": [],
   "source": [
    "cap=cv2.VideoCapture('video.mp4')"
   ]
  },
  {
   "cell_type": "markdown",
   "id": "67925312",
   "metadata": {},
   "source": [
    "### Initialize Subtructor"
   ]
  },
  {
   "cell_type": "code",
   "execution_count": 3,
   "id": "cd9f4848",
   "metadata": {},
   "outputs": [],
   "source": [
    "algo=cv2.bgsegm.createBackgroundSubtractorMOG()"
   ]
  },
  {
   "cell_type": "markdown",
   "id": "017a13b6",
   "metadata": {},
   "source": [
    "### Line initialize"
   ]
  },
  {
   "cell_type": "code",
   "execution_count": 4,
   "id": "bfd96453",
   "metadata": {},
   "outputs": [],
   "source": [
    "Line_position= 550"
   ]
  },
  {
   "cell_type": "markdown",
   "id": "6f1f6569",
   "metadata": {},
   "source": [
    "### initialize min_width and min_height of rectangle\n"
   ]
  },
  {
   "cell_type": "code",
   "execution_count": 5,
   "id": "e6c9ee1b",
   "metadata": {},
   "outputs": [],
   "source": [
    "mini_width=80\n",
    "mini_height=80"
   ]
  },
  {
   "cell_type": "markdown",
   "id": "b9e2fcc4",
   "metadata": {},
   "source": [
    "### to count"
   ]
  },
  {
   "cell_type": "code",
   "execution_count": 6,
   "id": "fc3fe9ae",
   "metadata": {},
   "outputs": [],
   "source": [
    "def center_handle(x,y,w,h):\n",
    "    dx=int(w/2)\n",
    "    dy=int(h/2)\n",
    "    cx=x+dx\n",
    "    cy=y+dy\n",
    "    \n",
    "    return cx,cy"
   ]
  },
  {
   "cell_type": "code",
   "execution_count": 7,
   "id": "f706fed7",
   "metadata": {},
   "outputs": [],
   "source": [
    "#initialize list of detected vehicles\n",
    "detect=[]\n",
    "\n",
    "#allowable error between pixel\n",
    "offset=10\n",
    "\n",
    "# initialize cnt for vehicle count\n",
    "cnt=0"
   ]
  },
  {
   "cell_type": "markdown",
   "id": "28b44c4c",
   "metadata": {},
   "source": [
    "### XML for cars\n"
   ]
  },
  {
   "cell_type": "code",
   "execution_count": 8,
   "id": "ab824252",
   "metadata": {},
   "outputs": [],
   "source": [
    "# car_cascade_src = 'cars.xml'\n",
    "# car_cascade = cv2.CascadeClassifier(car_cascade_src)"
   ]
  },
  {
   "cell_type": "code",
   "execution_count": 9,
   "id": "09f87251",
   "metadata": {},
   "outputs": [],
   "source": [
    "while True:\n",
    "    \n",
    "    # cap.read() return two values 1-> bool type 2-> frame\n",
    "    ret,frame=cap.read()\n",
    "    # when video is finished i.e ret==0\n",
    "    if ret==False:\n",
    "        break\n",
    "    \n",
    "    \n",
    "    \n",
    "    \n",
    "    \n",
    "    #convert the image from one color to another\n",
    "    grey=cv2.cvtColor(frame,cv2.COLOR_BGR2GRAY)\n",
    "    \n",
    "    # making image black and white background-> black, vehicles->white\n",
    "    blur=cv2.GaussianBlur(grey,(3,3),5)\n",
    "    #apply to all incoming frame 1 by 1\n",
    "    img_sub=algo.apply(blur)\n",
    "    dilat=cv2.dilate(img_sub,np.ones((5,5)))\n",
    "    kernel=cv2.getStructuringElement(cv2.MORPH_ELLIPSE,(5,5))\n",
    "    dilatada=cv2.morphologyEx(dilat,cv2.MORPH_CLOSE,kernel)\n",
    "    dilatada=cv2.morphologyEx(dilatada,cv2.MORPH_CLOSE,kernel)\n",
    "    counterShape, h=cv2.findContours(dilatada,cv2.RETR_TREE,cv2.CHAIN_APPROX_SIMPLE)\n",
    "        \n",
    "    \n",
    "    \n",
    "    # draw line\n",
    "    cv2.line(frame,(25,Line_position),(1200,Line_position),(255,255,255),1)\n",
    "    \n",
    "    \n",
    "    \n",
    "    \n",
    "    # draw rectangle for vehicles\n",
    "    #passing tuple c->channel\n",
    "    for (i,c) in enumerate(counterShape):\n",
    "        (x,y,w,h)=cv2.boundingRect(c)\n",
    "        validate_counter=(w>=mini_width) and (h>=mini_height)\n",
    "        if not validate_counter:\n",
    "            continue\n",
    "        cv2.rectangle(frame,(x,y),(x+w,y+h),(0,0,255),2)\n",
    "        cv2.putText(frame,str(cnt),(x+15,y-15),cv2.FONT_HERSHEY_DUPLEX,1,(0,0,255),1)\n",
    "    \n",
    "        \n",
    "        \n",
    "        # points to count vehicle\n",
    "        center=center_handle(x,y,w,h)\n",
    "        detect.append(center)\n",
    "        cv2.circle(frame,center,1,(0,0,255),-1)\n",
    "        \n",
    "          # if vehicle cross the line then count\n",
    "        for (x,y) in detect:\n",
    "            if y<(Line_position+offset) and y>(Line_position-offset):\n",
    "                cnt+=1\n",
    "            cv2.line(frame,(25,Line_position),(1200,Line_position),(255,255,255),2)\n",
    "            detect.remove((x,y))\n",
    "            \n",
    "    cv2.putText(frame,'Counter:'+str(cnt),(25,35),cv2.FONT_HERSHEY_DUPLEX,1,(0,0,255),2)\n",
    "    \n",
    "    \n",
    "    \n",
    "    \n",
    "    \n",
    "    \n",
    "    \n",
    "    \n",
    "    \n",
    "    \n",
    "    \n",
    "    \n",
    "    cv2.imshow('main video',frame)\n",
    "    \n",
    "    # stoping condition of vdo, cv2.waitKey(1)-> will wait for 1 millisecond when 13 ASCII for 'ENTER' key is pressed\n",
    "    \n",
    "    if cv2.waitKey(1)==13:\n",
    "        break\n",
    "# to destroy all windows\n",
    "cv2.destroyAllWindows()\n",
    "cap.release()"
   ]
  },
  {
   "cell_type": "code",
   "execution_count": null,
   "id": "c0e02448",
   "metadata": {},
   "outputs": [],
   "source": []
  }
 ],
 "metadata": {
  "kernelspec": {
   "display_name": "Python 3 (ipykernel)",
   "language": "python",
   "name": "python3"
  },
  "language_info": {
   "codemirror_mode": {
    "name": "ipython",
    "version": 3
   },
   "file_extension": ".py",
   "mimetype": "text/x-python",
   "name": "python",
   "nbconvert_exporter": "python",
   "pygments_lexer": "ipython3",
   "version": "3.10.9"
  }
 },
 "nbformat": 4,
 "nbformat_minor": 5
}
